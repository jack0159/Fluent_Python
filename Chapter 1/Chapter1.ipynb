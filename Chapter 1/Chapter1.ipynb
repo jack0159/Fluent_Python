{
  "nbformat": 4,
  "nbformat_minor": 0,
  "metadata": {
    "colab": {
      "name": "Chapter1.ipynb",
      "provenance": [],
      "collapsed_sections": []
    },
    "kernelspec": {
      "name": "python3",
      "display_name": "Python 3"
    }
  },
  "cells": [
    {
      "cell_type": "markdown",
      "metadata": {
        "id": "x5YlW9JzOtFB"
      },
      "source": [
        "# Chapter 1\r\n",
        "\r\n"
      ]
    },
    {
      "cell_type": "markdown",
      "metadata": {
        "id": "n3Oo-sawX0Tq"
      },
      "source": [
        "### 1.1 Deck of Python Cards"
      ]
    },
    {
      "cell_type": "code",
      "metadata": {
        "id": "mz-E1SkVOuN9"
      },
      "source": [
        "import collections\r\n",
        "\r\n",
        "Card = collections.namedtuple('Card', ['rank', 'suit'])\r\n",
        "\r\n",
        "class FrenchDeck:\r\n",
        "  ranks = [str(n) for n in range(2, 11)] + list('JQKA')\r\n",
        "  suits = 'spades diamonds clubs hearts'.split()\r\n",
        "\r\n",
        "  def __init__(self):\r\n",
        "    self._cards = [Card(rank, suit) for suit in self.suits for rank in self.ranks]\r\n",
        "  \r\n",
        "  def __len__(self):\r\n",
        "    return len(self._cards)\r\n",
        "  \r\n",
        "  def __getitem__(self, position):\r\n",
        "    return self._cards[position]\r\n",
        "\r\n",
        "  def spades_high(self, card):\r\n",
        "    rank_value = self.ranks.index(card.rank)\r\n",
        "    suit_value = len(self.suits) - self.suits.index(card.suit)\r\n",
        "    return rank_value*len(self.suits) + suit_value"
      ],
      "execution_count": null,
      "outputs": []
    },
    {
      "cell_type": "code",
      "metadata": {
        "colab": {
          "base_uri": "https://localhost:8080/"
        },
        "id": "n1itciC2QDgW",
        "outputId": "b222e862-842d-4f7a-9bb3-430c350e190a"
      },
      "source": [
        "deck = FrenchDeck()\r\n",
        "\r\n",
        "print(len(deck)) # Doesn't work if we don't define __len__ function\r\n",
        "print(deck[3]) # Also doesn't work until we define __getitem__ function"
      ],
      "execution_count": null,
      "outputs": [
        {
          "output_type": "stream",
          "text": [
            "52\n",
            "Card(rank='5', suit='spades')\n"
          ],
          "name": "stdout"
        }
      ]
    },
    {
      "cell_type": "code",
      "metadata": {
        "colab": {
          "base_uri": "https://localhost:8080/"
        },
        "id": "sDskXoghQMlH",
        "outputId": "54f2bad7-6440-4cb9-8cc5-5a194e2e7248"
      },
      "source": [
        "beer_card = Card('7', 'diamonds')\r\n",
        "\r\n",
        "print(beer_card)"
      ],
      "execution_count": null,
      "outputs": [
        {
          "output_type": "stream",
          "text": [
            "Card(rank='7', suit='diamonds')\n"
          ],
          "name": "stdout"
        }
      ]
    },
    {
      "cell_type": "code",
      "metadata": {
        "colab": {
          "base_uri": "https://localhost:8080/"
        },
        "id": "_Qahv9HZRLaw",
        "outputId": "9ce0af0c-8d1c-4fd8-ac71-3ea34fabe812"
      },
      "source": [
        "from random import choice\r\n",
        "\r\n",
        "# Choose 5 random cards with choice()\r\n",
        "for i in range(5):\r\n",
        "  print(choice(deck))"
      ],
      "execution_count": null,
      "outputs": [
        {
          "output_type": "stream",
          "text": [
            "Card(rank='7', suit='spades')\n",
            "Card(rank='10', suit='clubs')\n",
            "Card(rank='A', suit='diamonds')\n",
            "Card(rank='K', suit='clubs')\n",
            "Card(rank='A', suit='hearts')\n"
          ],
          "name": "stdout"
        }
      ]
    },
    {
      "cell_type": "markdown",
      "metadata": {
        "id": "mQXcQ0vwRxZn"
      },
      "source": [
        "#### 장점\r\n",
        "##### 1) 클래스 자체에서 구현한 임의 메서드명을 암기할 필요가 없다\r\n",
        "##### 2) Python 표준 라이브러리의 풍부한 기능들을 별도 구현 없이 바로 사용할 수 있다."
      ]
    },
    {
      "cell_type": "code",
      "metadata": {
        "colab": {
          "base_uri": "https://localhost:8080/"
        },
        "id": "zYzsba91RhRG",
        "outputId": "bbde765c-5f1b-4705-d9c5-9c1dcffbc2c4"
      },
      "source": [
        "# Taking all 'A' card\r\n",
        "print(deck[12::13])"
      ],
      "execution_count": null,
      "outputs": [
        {
          "output_type": "stream",
          "text": [
            "[Card(rank='A', suit='spades'), Card(rank='A', suit='diamonds'), Card(rank='A', suit='clubs'), Card(rank='A', suit='hearts')]\n"
          ],
          "name": "stdout"
        }
      ]
    },
    {
      "cell_type": "code",
      "metadata": {
        "colab": {
          "base_uri": "https://localhost:8080/"
        },
        "id": "uAaoRwosSiP6",
        "outputId": "fcc3e638-d581-43c5-e264-f8b804217569"
      },
      "source": [
        "# Search with in() \r\n",
        "\r\n",
        "print(Card('A', 'diamonds') in deck)\r\n",
        "print(Card('J', 'circles') in deck)"
      ],
      "execution_count": null,
      "outputs": [
        {
          "output_type": "stream",
          "text": [
            "True\n",
            "False\n"
          ],
          "name": "stdout"
        }
      ]
    },
    {
      "cell_type": "code",
      "metadata": {
        "colab": {
          "base_uri": "https://localhost:8080/"
        },
        "id": "PR8jjm8sTQ2f",
        "outputId": "5b81df90-d2fe-461d-d62a-c42e8456b14f"
      },
      "source": [
        "for card in sorted(deck, key=deck.spades_high):\r\n",
        "  print(card)"
      ],
      "execution_count": null,
      "outputs": [
        {
          "output_type": "stream",
          "text": [
            "Card(rank='2', suit='hearts')\n",
            "Card(rank='2', suit='clubs')\n",
            "Card(rank='2', suit='diamonds')\n",
            "Card(rank='2', suit='spades')\n",
            "Card(rank='3', suit='hearts')\n",
            "Card(rank='3', suit='clubs')\n",
            "Card(rank='3', suit='diamonds')\n",
            "Card(rank='3', suit='spades')\n",
            "Card(rank='4', suit='hearts')\n",
            "Card(rank='4', suit='clubs')\n",
            "Card(rank='4', suit='diamonds')\n",
            "Card(rank='4', suit='spades')\n",
            "Card(rank='5', suit='hearts')\n",
            "Card(rank='5', suit='clubs')\n",
            "Card(rank='5', suit='diamonds')\n",
            "Card(rank='5', suit='spades')\n",
            "Card(rank='6', suit='hearts')\n",
            "Card(rank='6', suit='clubs')\n",
            "Card(rank='6', suit='diamonds')\n",
            "Card(rank='6', suit='spades')\n",
            "Card(rank='7', suit='hearts')\n",
            "Card(rank='7', suit='clubs')\n",
            "Card(rank='7', suit='diamonds')\n",
            "Card(rank='7', suit='spades')\n",
            "Card(rank='8', suit='hearts')\n",
            "Card(rank='8', suit='clubs')\n",
            "Card(rank='8', suit='diamonds')\n",
            "Card(rank='8', suit='spades')\n",
            "Card(rank='9', suit='hearts')\n",
            "Card(rank='9', suit='clubs')\n",
            "Card(rank='9', suit='diamonds')\n",
            "Card(rank='9', suit='spades')\n",
            "Card(rank='10', suit='hearts')\n",
            "Card(rank='10', suit='clubs')\n",
            "Card(rank='10', suit='diamonds')\n",
            "Card(rank='10', suit='spades')\n",
            "Card(rank='J', suit='hearts')\n",
            "Card(rank='J', suit='clubs')\n",
            "Card(rank='J', suit='diamonds')\n",
            "Card(rank='J', suit='spades')\n",
            "Card(rank='Q', suit='hearts')\n",
            "Card(rank='Q', suit='clubs')\n",
            "Card(rank='Q', suit='diamonds')\n",
            "Card(rank='Q', suit='spades')\n",
            "Card(rank='K', suit='hearts')\n",
            "Card(rank='K', suit='clubs')\n",
            "Card(rank='K', suit='diamonds')\n",
            "Card(rank='K', suit='spades')\n",
            "Card(rank='A', suit='hearts')\n",
            "Card(rank='A', suit='clubs')\n",
            "Card(rank='A', suit='diamonds')\n",
            "Card(rank='A', suit='spades')\n"
          ],
          "name": "stdout"
        }
      ]
    },
    {
      "cell_type": "code",
      "metadata": {
        "colab": {
          "base_uri": "https://localhost:8080/"
        },
        "id": "crkf-8yxVQeP",
        "outputId": "7e84475e-6cb6-4634-cd72-479f2430a790"
      },
      "source": [
        "################################################\r\n",
        "\r\n",
        "for i in range(5):\r\n",
        "  a = choice(deck)\r\n",
        "  b = choice(deck)\r\n",
        "\r\n",
        "  print(i,'th game')\r\n",
        "  print('a : ', a)\r\n",
        "  print('b : ', b) \r\n",
        "\r\n",
        "  if deck.spades_high(a) > deck.spades_high(b):\r\n",
        "    print('a won!')\r\n",
        "  elif deck.spades_high(a) < deck.spades_high(b):\r\n",
        "    print('b won!')\r\n",
        "  else:\r\n",
        "    print('same card!')\r\n",
        "\r\n",
        "################################################"
      ],
      "execution_count": null,
      "outputs": [
        {
          "output_type": "stream",
          "text": [
            "0 th game\n",
            "a :  Card(rank='Q', suit='spades')\n",
            "b :  Card(rank='K', suit='clubs')\n",
            "b won!\n",
            "1 th game\n",
            "a :  Card(rank='J', suit='spades')\n",
            "b :  Card(rank='3', suit='spades')\n",
            "a won!\n",
            "2 th game\n",
            "a :  Card(rank='4', suit='spades')\n",
            "b :  Card(rank='6', suit='spades')\n",
            "b won!\n",
            "3 th game\n",
            "a :  Card(rank='3', suit='diamonds')\n",
            "b :  Card(rank='J', suit='spades')\n",
            "b won!\n",
            "4 th game\n",
            "a :  Card(rank='J', suit='spades')\n",
            "b :  Card(rank='Q', suit='spades')\n",
            "b won!\n"
          ],
          "name": "stdout"
        }
      ]
    },
    {
      "cell_type": "markdown",
      "metadata": {
        "id": "XQgn2EV1Xy7T"
      },
      "source": [
        "### 1.2 How is the Special Method used?"
      ]
    },
    {
      "cell_type": "code",
      "metadata": {
        "colab": {
          "base_uri": "https://localhost:8080/"
        },
        "id": "9QiKGuoYXVaw",
        "outputId": "1bca0c38-9635-420a-f9cf-c31372f5bb0b"
      },
      "source": [
        "# Vector Operation\r\n",
        "\r\n",
        "\r\n",
        "class Vector:\r\n",
        "\r\n",
        "  def __init__(self, x=0, y=0):\r\n",
        "    self.x = x\r\n",
        "    self.y = y\r\n",
        "\r\n",
        "  # + operation\r\n",
        "  def __add__(self, other):\r\n",
        "    x = self.x + other.x\r\n",
        "    y = self.y + other.y\r\n",
        "    return Vector(x, y)\r\n",
        "\r\n",
        "  # print() function\r\n",
        "  def __repr__(self):\r\n",
        "    return 'Vector(%r, %r)' % (self.x, self.y)\r\n",
        "\r\n",
        "  # abs() function\r\n",
        "  def __abs__(self):\r\n",
        "    return hypot(self.x, self.y)\r\n",
        "\r\n",
        "  # * operation\r\n",
        "  def __mul__(self, scalar):\r\n",
        "    x = self.x * scalar\r\n",
        "    y = self.y * scalar\r\n",
        "    return Vector(x, y)\r\n",
        "\r\n",
        "v1 = Vector(2, 4)\r\n",
        "v2 = Vector(2, 1)\r\n",
        "print(v1 + v2)"
      ],
      "execution_count": null,
      "outputs": [
        {
          "output_type": "stream",
          "text": [
            "Vector(4, 5)\n"
          ],
          "name": "stdout"
        }
      ]
    },
    {
      "cell_type": "code",
      "metadata": {
        "id": "tUkk6PNaY2UF"
      },
      "source": [
        ""
      ],
      "execution_count": null,
      "outputs": []
    }
  ]
}